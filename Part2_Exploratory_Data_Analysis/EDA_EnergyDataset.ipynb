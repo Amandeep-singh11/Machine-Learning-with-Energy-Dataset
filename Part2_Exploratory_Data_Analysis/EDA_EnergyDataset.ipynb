{
 "cells": [
  {
   "cell_type": "markdown",
   "metadata": {},
   "source": [
    "# Energy Dataset Exploratory Data Analysis\n",
    "\n",
    "This dataset is taken from a [Git Repository](https://github.com/LuisM78/Appliances-energy-prediction-data) of data for the publication:\n",
    "\n",
    "Data driven prediction models of energy use of appliances in a low-energy house. Luis M. Candanedo, Véronique Feldheim, Dominique Deramaix. Energy and Buildings, Volume 140, 1 April 2017, Pages 81-97, ISSN 0378-7788, http://dx.doi.org/10.1016/j.enbuild.2017.01.083."
   ]
  },
  {
   "cell_type": "markdown",
   "metadata": {},
   "source": [
    "## EDA Plan\n",
    "> Sourced from [Chloe Mawer, Jonathan Whitmore - Exploratory data analysis in python - PyCon 2017](https://www.youtube.com/watch?v=W5WE9Db2RLU)\n",
    "\n",
    "Exploratory data analysis consists of the following major tasks, which we present linearly here because each task doesn't make much sense to do without the ones prior to it. However, in reality, you are going to constantly jump around from step to step.  You may want to do all the steps for a subset of the variables first. Or often, an observation will bring up a question you want to investigate and you'll branch off and explore to answer that question before returning down the main path of exhaustive EDA.\n",
    "\n",
    "1. Form hypotheses/develop investigation themes to explore \n",
    "3. Wrangle data \n",
    "3. Assess quality of data \n",
    "4. Profile data\n",
    "5. Explore each individual variable in the dataset\n",
    "6. Assess the relationship between each variable and the target \n",
    "7. Assess interactions between variables \n",
    "8. Explore data across many dimensions \n",
    "\n",
    "Throughout the entire analysis you want to:\n",
    "* Capture a list of hypotheses and questions that come up for further exploration.\n",
    "* Record things to watch out for/ be aware of in future analyses. \n",
    "* Show intermediate results to colleagues to get a fresh perspective, feedback, domain knowledge. Don't do EDA in a bubble! Get feedback throughout especially from people removed from the problem and/or with relevant domain knowledge. \n",
    "* Position visuals and results together. EDA relies on your natural pattern recognition abilities so maximize what you'll find by putting visualizations and results in close proximity. "
   ]
  },
  {
   "cell_type": "markdown",
   "metadata": {},
   "source": [
    "## The Task\n",
    "\n",
    "Do an Exploratory Data Analysis on the energy dataset. <br> Keeping in mind : **Understand energy usage by appliances and the attributes that contribute to aggregate energy usage.**\n",
    "\n",
    "### General Tips Followed \n",
    "> [Chloe Mawer, Jonathan Whitmore - Exploratory Data Analysis in Python - PyCon 2017](https://www.youtube.com/watch?v=W5WE9Db2RLU)\n",
    "\n",
    "> - Before plotting/joining/doing something, have a question or hypothesis that you want to investigate\n",
    "> - Draw a plot of what you want to see on paper to sketch the idea\n",
    "> - Write it down, then make the plan on how to get there\n",
    "> - How do you know you aren't fooling yourself\n",
    "> - What else can I check if this is actually true?\n",
    "> - What evidence could there be that it's wrong?\n",
    "\n",
    "### Tidy Data\n",
    "> Hadley Wickham's concept of a **tidy dataset** summarized as:\n",
    "\n",
    "> - Each variable forms a column\n",
    "> - Each observation forms a row\n",
    "> - Each type of observational unit forms a table"
   ]
  },
  {
   "cell_type": "code",
   "execution_count": 1,
   "metadata": {
    "collapsed": true,
    "scrolled": false
   },
   "outputs": [],
   "source": [
    "# Uncomment and run if any of the following libraries not available\n",
    "#!pip install tqdm\n",
    "#!pip install missingno\n",
    "#!pip install pandas_profiling\n",
    "#!pip install folium\n",
    "#!pip install pivottablejs"
   ]
  },
  {
   "cell_type": "code",
   "execution_count": 2,
   "metadata": {
    "scrolled": false
   },
   "outputs": [
    {
     "ename": "ModuleNotFoundError",
     "evalue": "No module named 'pivottablejs'",
     "output_type": "error",
     "traceback": [
      "\u001b[1;31m---------------------------------------------------------------------------\u001b[0m",
      "\u001b[1;31mModuleNotFoundError\u001b[0m                       Traceback (most recent call last)",
      "\u001b[1;32m<ipython-input-2-1d9c82237c5b>\u001b[0m in \u001b[0;36m<module>\u001b[1;34m()\u001b[0m\n\u001b[0;32m     28\u001b[0m \u001b[1;32mimport\u001b[0m \u001b[0mmissingno\u001b[0m \u001b[1;32mas\u001b[0m \u001b[0mmsno\u001b[0m\u001b[1;33m\u001b[0m\u001b[0m\n\u001b[0;32m     29\u001b[0m \u001b[1;32mimport\u001b[0m \u001b[0mpandas_profiling\u001b[0m\u001b[1;33m\u001b[0m\u001b[0m\n\u001b[1;32m---> 30\u001b[1;33m \u001b[1;32mimport\u001b[0m \u001b[0mpivottablejs\u001b[0m\u001b[1;33m\u001b[0m\u001b[0m\n\u001b[0m\u001b[0;32m     31\u001b[0m \u001b[1;33m\u001b[0m\u001b[0m\n\u001b[0;32m     32\u001b[0m \u001b[1;31m#from tqdm import tqdm\u001b[0m\u001b[1;33m\u001b[0m\u001b[1;33m\u001b[0m\u001b[0m\n",
      "\u001b[1;31mModuleNotFoundError\u001b[0m: No module named 'pivottablejs'"
     ]
    }
   ],
   "source": [
    "# To output plotting commands display inline within frontends\n",
    "%matplotlib inline\n",
    "#To obtain retina-display quality for figures into code\n",
    "%config InlineBackend.figure_format='retina'\n",
    "\n",
    "# To use features which will appear in newer versions while having an older release of Python\n",
    "from __future__ import absolute_import, division, print_function\n",
    "\n",
    "# Plotting\n",
    "import matplotlib as mpl\n",
    "from matplotlib import pyplot as plt\n",
    "from matplotlib.pyplot import GridSpec\n",
    "import seaborn as sns\n",
    "sns.set_context(\"poster\", font_scale=1.3)\n",
    "#import folium\n",
    "\n",
    "# Basic Wrangling \n",
    "import numpy as np\n",
    "import pandas as pd\n",
    "from pandas.tools.plotting import scatter_matrix\n",
    "\n",
    "# System Packages \n",
    "import os, sys\n",
    "import warnings\n",
    "warnings.filterwarnings('ignore')\n",
    "\n",
    "# EDA Tools \n",
    "import missingno as msno\n",
    "import pandas_profiling\n",
    "import pivottablejs\n",
    "\n",
    "#from tqdm import tqdm\n",
    "from sklearn.datasets import make_blobs\n",
    "import time\n",
    "\n",
    "# More Technical EDA\n",
    "import sklearn\n",
    "import scipy\n",
    "\n",
    "# Update matplotlib defaults to something nicer \n",
    "mpl_update = {'font.size':16,\n",
    "              'xtick.labelsize':14,\n",
    "              'ytick.labelsize':14,\n",
    "              'figure.figsize':[12.0,8.0],\n",
    "              'axes.color_cycle':['#0055A7', '#2C3E4F', '#26C5ED', '#00cc66', '#D34100', '#FF9700','#091D32'], \n",
    "              'axes.labelsize':20,\n",
    "              'axes.labelcolor':'#677385',\n",
    "              'axes.titlesize':20,\n",
    "              'lines.color':'#0055A7',\n",
    "              'lines.linewidth':3,\n",
    "              'text.color':'#677385'}\n",
    "mpl.rcParams.update(mpl_update)"
   ]
  },
  {
   "cell_type": "markdown",
   "metadata": {},
   "source": [
    "### Description of the Data Columns (Units)\n",
    "> Where indicated, data from the nearest airport weather station (Chièvres Airport, Belgium) was downloaded from a public data set from Reliable Prognosis, rp5.ru. Permission was obtained from Reliable Prognosis for the distribution of the **4 months of data**.\n",
    "<table>\n",
    "    <thead class=\"valign-top\">\n",
    "        <tr>\n",
    "            <th scope=\"col\" class=\"rowsep-1 align-left\">Variables, Description</th>\n",
    "            <th scope=\"col\" class=\"rowsep-1 align-left\">Units</th>\n",
    "            <th scope=\"col\" class=\"rowsep-1 align-left\">Number of Features</th>\n",
    "        </tr>\n",
    "    </thead>\n",
    "    <tbody>\n",
    "        <tr>\n",
    "        <th class=\"align-left\" scope=\"row\">date, Date time stamp</th>\n",
    "            <td class=\"align-left\">year-month-day hour:min:s</td>\n",
    "            <td class=\"align-char\">–</td>\n",
    "        </tr>\n",
    "        <tr>\n",
    "            <th class=\"align-left\" scope=\"row\">Appliances, Appliances energy consumption</th>\n",
    "            <td class=\"align-left\">Wh</td>\n",
    "            <td class=\"align-char\">1</td>\n",
    "        </tr>\n",
    "        <tr>\n",
    "            <th class=\"align-left\" scope=\"row\">Lights, Light energy consumption</th>\n",
    "            <td class=\"align-left\">Wh</td>\n",
    "            <td class=\"align-char\">2</td>\n",
    "        </tr>\n",
    "        <tr>\n",
    "            <th class=\"align-left\" scope=\"row\">T1, Temperature in kitchen area</th>\n",
    "            <td class=\"align-left\">°C</td>\n",
    "            <td class=\"align-char\">3</td>\n",
    "        </tr>\n",
    "        <tr>\n",
    "            <th class=\"align-left\" scope=\"row\">RH_1, Humidity in kitchen area</th>\n",
    "            <td class=\"align-left\">%</td>\n",
    "            <td class=\"align-char\">4</td>\n",
    "        </tr>\n",
    "        <tr>\n",
    "            <th class=\"align-left\" scope=\"row\">T2, Temperature in living room area</th>\n",
    "            <td class=\"align-left\">°C</td>\n",
    "            <td class=\"align-char\">5</td>\n",
    "        </tr>\n",
    "        <tr>\n",
    "            <th class=\"align-left\" scope=\"row\">RH_2, Humidity in living room area</th>\n",
    "            <td class=\"align-left\">%</td>\n",
    "            <td class=\"align-char\">6</td>\n",
    "        </tr>\n",
    "        <tr>\n",
    "            <th class=\"align-left\" scope=\"row\">T3, Temperature in laundry room area</th>\n",
    "            <td class=\"align-left\">°C</td>\n",
    "            <td class=\"align-char\">7</td>\n",
    "        </tr>\n",
    "        <tr>\n",
    "            <th class=\"align-left\" scope=\"row\">RH_3, Humidity in laundry room area</th>\n",
    "            <td class=\"align-left\">%</td>\n",
    "            <td class=\"align-char\">8</td>\n",
    "        </tr>\n",
    "        <tr>\n",
    "            <th class=\"align-left\" scope=\"row\">T4, Temperature in office room</th>\n",
    "            <td class=\"align-left\">°C</td>\n",
    "            <td class=\"align-char\">9</td>\n",
    "        </tr>\n",
    "        <tr>\n",
    "            <th class=\"align-left\" scope=\"row\">RH_4, Humidity in office room</th>\n",
    "            <td class=\"align-left\">%</td>\n",
    "            <td class=\"align-char\">10</td>\n",
    "        </tr>\n",
    "        <tr>\n",
    "            <th class=\"align-left\" scope=\"row\">T5, Temperature in bathroom</th>\n",
    "            <td class=\"align-left\">°C</td>\n",
    "            <td class=\"align-char\">11</td>\n",
    "        </tr>\n",
    "        <tr>\n",
    "            <th class=\"align-left\" scope=\"row\">RH_5, Humidity in bathroom</th>\n",
    "            <td class=\"align-left\">%</td>\n",
    "            <td class=\"align-char\">12</td>\n",
    "        </tr>\n",
    "        <tr>\n",
    "            <th class=\"align-left\" scope=\"row\">T6, Temperature outside the building (north side)</th>\n",
    "            <td class=\"align-left\">°C</td>\n",
    "            <td class=\"align-char\">13</td>\n",
    "        </tr>\n",
    "        <tr>\n",
    "            <th class=\"align-left\" scope=\"row\">RH_6, Humidity outside the building (north side)</th>\n",
    "            <td class=\"align-left\">%</td>\n",
    "            <td class=\"align-char\">14</td>\n",
    "        </tr>\n",
    "        <tr>\n",
    "            <th class=\"align-left\" scope=\"row\">T7, Temperature in ironing room</th>\n",
    "            <td class=\"align-left\">°C</td>\n",
    "            <td class=\"align-char\">15</td>\n",
    "        </tr>\n",
    "        <tr>\n",
    "            <th class=\"align-left\" scope=\"row\">RH_7, Humidity in ironing room</th>\n",
    "            <td class=\"align-left\">%</td>\n",
    "            <td class=\"align-char\">16</td>\n",
    "        </tr>\n",
    "        <tr>\n",
    "            <th class=\"align-left\" scope=\"row\">T8, Temperature in teenager room 2</th>\n",
    "            <td class=\"align-left\">°C</td>\n",
    "            <td class=\"align-char\">17</td>\n",
    "        </tr>\n",
    "        <tr>\n",
    "            <th class=\"align-left\" scope=\"row\">RH_8, Humidity in teenager room 2</th>\n",
    "            <td class=\"align-left\">%</td>\n",
    "            <td class=\"align-char\">18</td>\n",
    "        </tr>\n",
    "        <tr>\n",
    "            <th class=\"align-left\" scope=\"row\">T9, Temperature in parents room</th>\n",
    "            <td class=\"align-left\">°C</td>\n",
    "            <td class=\"align-char\">19</td>\n",
    "        </tr>\n",
    "        <tr>\n",
    "            <th class=\"align-left\" scope=\"row\">RH_9, Humidity in parents room</th>\n",
    "            <td class=\"align-left\">%</td>\n",
    "            <td class=\"align-char\">20</td>\n",
    "        </tr>\n",
    "        <tr>\n",
    "            <th class=\"align-left\" scope=\"row\">T_out, Temperature outside (from Chièvres weather station)</th>\n",
    "            <td class=\"align-left\">°C</td>\n",
    "            <td class=\"align-char\">21</td>\n",
    "        </tr>\n",
    "        <tr>\n",
    "            <th class=\"align-left\" scope=\"row\">Press_mm_hg, Pressure (from Chièvres weather station)</th>\n",
    "            <td class=\"align-left\">mm Hg</td>\n",
    "            <td class=\"align-char\">22</td>\n",
    "        </tr>\n",
    "        <tr>\n",
    "            <th class=\"align-left\" scope=\"row\">RH_out, Humidity outside (from Chièvres weather station)</th>\n",
    "            <td class=\"align-left\">%</td>\n",
    "            <td class=\"align-char\">23</td>\n",
    "        </tr>\n",
    "        <tr>\n",
    "            <th class=\"align-left\" scope=\"row\">Windspeed, Windspeed (from Chièvres weather station)</th>\n",
    "            <td class=\"align-left\">m/s</td>\n",
    "            <td class=\"align-char\">24</td>\n",
    "        </tr>\n",
    "        <tr>\n",
    "            <th class=\"align-left\" scope=\"row\">Visibility, Visibility (from Chièvres weather station)</th>\n",
    "            <td class=\"align-left\">km</td>\n",
    "            <td class=\"align-char\">25</td>\n",
    "        </tr>\n",
    "        <tr>\n",
    "            <th class=\"align-left\" scope=\"row\">Tdewpoint, Dew point temp (from Chièvres weather station)</th>\n",
    "            <td class=\"align-left\">°C</td>\n",
    "            <td class=\"align-char\">26</td>\n",
    "        </tr>\n",
    "        <tr>\n",
    "            <th class=\"align-left\" scope=\"row\">rv1, Random Variable 1</th>\n",
    "            <td class=\"align-left\">Non dimensional</td>\n",
    "            <td class=\"align-char\">27</td>\n",
    "        </tr>\n",
    "        <tr>\n",
    "            <th class=\"align-left\" scope=\"row\">rv2, Random Variable 2</th>\n",
    "            <td class=\"align-left\">Non dimensional</td>\n",
    "            <td class=\"align-char\">28</td>\n",
    "        </tr>\n",
    "    </tbody>\n",
    "</table>"
   ]
  },
  {
   "cell_type": "markdown",
   "metadata": {},
   "source": [
    "## Data Quality Assessment and Profiling\n",
    "[PyCon2017 Link](https://www.youtube.com/watch?v=W5WE9Db2RLU)\n",
    "Before trying to understand what information is in the data, make sure to understand what the data represents and what's missing.\n",
    "\n",
    "### Overview \n",
    "####  Basic things to do \n",
    "* Categorical: count, count distinct, assess unique values \n",
    "* Numerical: count, min, max\n",
    "* Spot-check random samples and samples that you are familiar with \n",
    "* Slice and dice \n",
    "\n",
    "#### Main questions\n",
    "* What data isn't there? \n",
    "* Is the data that is there right? \n",
    "* Is the data being generated the way you think? \n",
    "\n",
    "**Other Questions to consider:**\n",
    "* Are there frequent values that are default values? \n",
    "* Are there fields that represent the same information? \n",
    "* What timestamp, if any, should you use? \n",
    "* Are there numerical values reported as strings? \n",
    "* Are there special values? \n",
    "* Are there variables that are numerical but really should be categorical? \n",
    "* Is data consistent across? \n",
    "* Are there any direct relationships between fields? \n",
    "* What are the units of measurement? Are they consistent? \n",
    "* Are there obvious changes in reported data around the time of important events that affect data generation (e.g. version release)?\n",
    "\n",
    "#### Helpful packages\n",
    "* [`missingno`](https://github.com/ResidentMario/missingno)\n",
    "* [`pivottablejs`](https://github.com/nicolaskruchten/jupyter_pivottablejs)\n",
    "* [`pandas_profiling`](https://github.com/JosPolfliet/pandas-profiling)\n",
    "\n",
    "#### Example backlog\n",
    "* Assess the prevalence of missing data across all data fields, assess whether its missing is random or systematic, and identify patterns when such data is missing\n",
    "* Identify any default values that imply missing data for a given field\n",
    "* Determine sampling strategy for quality assessment and initial EDA\n",
    "* For datetime data types, ensure consistent formatting and granularity of data, and perform sanity checks on all dates present in the data.\n",
    "* In cases where multiple fields capture the same or similar information, understand the relationships between them and assess the most effective field to use\n",
    "* Assess data type of each field\n",
    "* For discrete value types, ensure data formats are consistent\n",
    "* For discrete value types, assess number of distinct values and percent unique and do sanity check on types of answers\n",
    "* For continuous data types, assess descriptive statistics and perform sanity check on values \n",
    "* Understand relationships between timestamps and assess which to use in analysis\n",
    "* Slice data by device type, operating system, software version and ensure consistency in data across slices\n",
    "* For device or app data, identify version release dates and assess data for any changes in format or value around those dates\n",
    "\n",
    "### Missing data\n",
    "*What data isn’t there?*\n",
    "\n",
    "Questions to be considering\n",
    "* Are there systematic reasons for missing data? \n",
    "* Are there fields that are always missing at the same time ? \n",
    "* Is there information in what data is missing?"
   ]
  },
  {
   "cell_type": "code",
   "execution_count": null,
   "metadata": {
    "scrolled": false
   },
   "outputs": [],
   "source": [
    "# Loading the data from the Case Study GitHub\n",
    "# df = pd.read_csv(\"https://raw.githubusercontent.com/eklavyasaxena/Advances-in-Data-Sciences-and-Architecture/master/ADS_CaseStudy_2/Data_for_EnergyCaseStudy/energydata_complete.csv\")\n",
    "df_loaded = pd.read_csv(\"../Data_for_EnergyCaseStudy/energydata_complete.csv\")\n",
    "df = df_loaded"
   ]
  },
  {
   "cell_type": "code",
   "execution_count": null,
   "metadata": {
    "scrolled": false
   },
   "outputs": [],
   "source": [
    "df.shape"
   ]
  },
  {
   "cell_type": "code",
   "execution_count": null,
   "metadata": {
    "scrolled": false
   },
   "outputs": [],
   "source": [
    "df.head()"
   ]
  },
  {
   "cell_type": "code",
   "execution_count": null,
   "metadata": {
    "scrolled": false
   },
   "outputs": [],
   "source": [
    "df.describe().T"
   ]
  },
  {
   "cell_type": "code",
   "execution_count": null,
   "metadata": {
    "scrolled": false
   },
   "outputs": [],
   "source": [
    "df.info()"
   ]
  },
  {
   "cell_type": "code",
   "execution_count": null,
   "metadata": {
    "collapsed": true,
    "scrolled": false
   },
   "outputs": [],
   "source": [
    "df['date'] = pd.to_datetime(df['date'], format='%Y-%m-%d %H:%M:%S', utc=True)"
   ]
  },
  {
   "cell_type": "code",
   "execution_count": null,
   "metadata": {
    "scrolled": true
   },
   "outputs": [],
   "source": [
    "all_columns = df.columns.tolist()\n",
    "all_columns"
   ]
  },
  {
   "cell_type": "markdown",
   "metadata": {
    "collapsed": true
   },
   "source": [
    "#### Adding Additional Key Features\n",
    "><table>\n",
    "    <thead class=\"valign-top\">\n",
    "        <tr>\n",
    "            <th scope=\"col\" class=\"rowsep-1 align-left\">Variables, Description</th>\n",
    "            <th scope=\"col\" class=\"rowsep-1 align-left\">Units</th>\n",
    "            <th scope=\"col\" class=\"rowsep-1 align-left\">Number of Features</th>\n",
    "        </tr>\n",
    "    </thead>\n",
    "    <tbody>\n",
    "        <tr>\n",
    "            <th class=\"align-left\" scope=\"row\">NSM, Number of seconds from midnight</th>\n",
    "            <td class=\"align-left\">s</td>\n",
    "            <td class=\"align-char\">29</td>\n",
    "        </tr>\n",
    "        <tr>\n",
    "            <th class=\"align-left\" scope=\"row\">week_status, Week status (weekend (0) or a weekday (1))</th>\n",
    "            <td class=\"align-left\">Factor/categorical</td>\n",
    "            <td class=\"align-char\">30</td>\n",
    "        </tr>\n",
    "        <tr>\n",
    "            <th class=\"align-left\" scope=\"row\">day_of_week, Day of week (Monday(0), Tuesday(1)… Sunday(6))</th>\n",
    "            <td class=\"align-left\">Factor/categorical</td>\n",
    "            <td class=\"align-char\">31</td>\n",
    "        </tr>\n",
    "    </tbody>\n",
    " </table>"
   ]
  },
  {
   "cell_type": "code",
   "execution_count": null,
   "metadata": {
    "collapsed": true,
    "scrolled": false
   },
   "outputs": [],
   "source": [
    "df['NSM'] = df.date.apply(lambda x: x.hour*3600 + x.minute*60 +x.second)"
   ]
  },
  {
   "cell_type": "code",
   "execution_count": null,
   "metadata": {
    "collapsed": true,
    "scrolled": false
   },
   "outputs": [],
   "source": [
    "df['day_of_week'] = df.date.apply(lambda x: x.dayofweek)"
   ]
  },
  {
   "cell_type": "code",
   "execution_count": null,
   "metadata": {
    "collapsed": true,
    "scrolled": false
   },
   "outputs": [],
   "source": [
    "df['week_status'] = df.day_of_week.apply(lambda x: 0 if (x == 5 or x == 6) else 1)"
   ]
  },
  {
   "cell_type": "code",
   "execution_count": null,
   "metadata": {
    "collapsed": true,
    "scrolled": false
   },
   "outputs": [],
   "source": [
    "# To set Datetime column as index of the Dataframe\n",
    "# df_idx = df.set_index(pd.DatetimeIndex(df['date']))"
   ]
  },
  {
   "cell_type": "code",
   "execution_count": null,
   "metadata": {
    "scrolled": false
   },
   "outputs": [],
   "source": [
    "# Checking if the date column is unique for each and every row:\n",
    "df.date.nunique() == df.shape[0]"
   ]
  },
  {
   "cell_type": "code",
   "execution_count": null,
   "metadata": {
    "scrolled": false
   },
   "outputs": [],
   "source": [
    "# Checking Null Values\n",
    "df.apply(lambda x: sum(x.isnull()), axis=0)"
   ]
  },
  {
   "cell_type": "code",
   "execution_count": null,
   "metadata": {
    "scrolled": true
   },
   "outputs": [],
   "source": [
    "df.head()"
   ]
  },
  {
   "cell_type": "markdown",
   "metadata": {},
   "source": [
    "## Visualizing the missing-ness of data\n",
    "https://github.com/ResidentMario/missingno"
   ]
  },
  {
   "cell_type": "code",
   "execution_count": null,
   "metadata": {},
   "outputs": [],
   "source": [
    "# Matrix of missingness of the data\n",
    "msno.matrix(df.sample(500), figsize=(14, 5), width_ratios=(14, 1));"
   ]
  },
  {
   "cell_type": "markdown",
   "metadata": {},
   "source": [
    "It is clear from the above matrix, that there is no data missing. But, following commands can be further used to explorate the missingness:\n",
    "``` Python\n",
    "  # Barchart of missingness of the data\n",
    "  msno.bar(df.sample(500), figsize=(14, 5));\n",
    "  \n",
    "  # Correlation patterns in how the data is missing\n",
    "  msno.heatmap(df.sample(500), figsize=(16, 7));\n",
    "```"
   ]
  },
  {
   "cell_type": "markdown",
   "metadata": {},
   "source": [
    "## Visualizing the Data"
   ]
  },
  {
   "cell_type": "markdown",
   "metadata": {},
   "source": [
    "### Cross-section for Univariate Distributions\n",
    "For numerical data, look at: \n",
    "\n",
    "* *Location*: mean, median, mode, interquartile mean \n",
    "* *Spread*: standard deviation, variance, range, interquartile range\n",
    "* *Shape*: skewness, kurtosis \n",
    "\n",
    "\n",
    "### For Bivariate Plots\n",
    "CATEGORICAL X CATEGORICAL\n",
    "* [Heat map of contingency table](http://seaborn.pydata.org/generated/seaborn.heatmap.html?highlight=heatmap#seaborn.heatmap) \n",
    "* [Multiple bar plots](http://seaborn.pydata.org/tutorial/categorical.html?highlight=bar%20plot#bar-plots) \n",
    "\n",
    "CATEGORICAL X CONTINUOUS \n",
    "* [Box plots](http://seaborn.pydata.org/generated/seaborn.boxplot.html#seaborn.boxplot) of continuous for each category\n",
    "* [Violin plots](http://seaborn.pydata.org/examples/simple_violinplots.html) of continuous distribution for each category\n",
    "* Overlaid [histograms](http://seaborn.pydata.org/tutorial/distributions.html#histograms) (if 3 or less categories)\n",
    "\n",
    "CONTINUOUS X CONTINOUS \n",
    "* [Scatter plots](http://seaborn.pydata.org/examples/marginal_ticks.html?highlight=scatter) \n",
    "* [Hexibin plots](http://seaborn.pydata.org/tutorial/distributions.html#hexbin-plots)\n",
    "* [Joint kernel density estimation plots](http://seaborn.pydata.org/tutorial/distributions.html#kernel-density-estimation)\n",
    "* [Correlation matrix heatmap](http://seaborn.pydata.org/examples/network_correlations.html?highlight=correlation)"
   ]
  },
  {
   "cell_type": "markdown",
   "metadata": {},
   "source": [
    "### 1) Energy Consumption by Appliances & Lights"
   ]
  },
  {
   "cell_type": "code",
   "execution_count": null,
   "metadata": {},
   "outputs": [],
   "source": [
    "df[['Appliances', 'lights']].describe().astype(int)"
   ]
  },
  {
   "cell_type": "markdown",
   "metadata": {},
   "source": [
    "### [Skewness and Kurtosis](http://www.itl.nist.gov/div898/handbook/eda/section3/eda35b.htm)\n",
    "\n",
    "* *Skewness:* measure of lack of symmetry. \n",
    "* *Kurtosis:* measure of whether the data are heavily tailed relative to the normal distribution. "
   ]
  },
  {
   "cell_type": "code",
   "execution_count": null,
   "metadata": {
    "scrolled": false
   },
   "outputs": [],
   "source": [
    "df[['Appliances', 'lights']].apply(scipy.stats.skew)"
   ]
  },
  {
   "cell_type": "markdown",
   "metadata": {},
   "source": [
    "Skewness for normal distribution should be zero. Negative skewness indicates skew left and positive skewness indicates skew right."
   ]
  },
  {
   "cell_type": "code",
   "execution_count": null,
   "metadata": {},
   "outputs": [],
   "source": [
    "df[['Appliances', 'lights']].apply(scipy.stats.kurtosis)"
   ]
  },
  {
   "cell_type": "markdown",
   "metadata": {},
   "source": [
    "Kurtosis is also zero for a normal distribution and can only be postiive."
   ]
  },
  {
   "cell_type": "code",
   "execution_count": null,
   "metadata": {
    "scrolled": false
   },
   "outputs": [],
   "source": [
    "fig, (ax1, ax2) = plt.subplots(figsize=(18,5), ncols=2)\n",
    "sns.distplot(df.Appliances, kde=False, color=\"red\", ax=ax1)\n",
    "sns.distplot(df.lights, kde=False, color=\"red\", ax=ax2)\n",
    "ax1.set_ylabel(\"Frequency\")\n",
    "ax2.set_ylabel(\"Frequency\");"
   ]
  },
  {
   "cell_type": "code",
   "execution_count": null,
   "metadata": {
    "scrolled": false
   },
   "outputs": [],
   "source": [
    "# Calculating Percentage of Zero Energy Consumption by Lights\n",
    "total = df.lights.count()\n",
    "non_zero_val = df.lights.astype(bool).sum(axis=0)\n",
    "zero_val_percent = (total - non_zero_val)/total*100\n",
    "print(zero_val_percent)"
   ]
  },
  {
   "cell_type": "markdown",
   "metadata": {},
   "source": [
    "* Appliances: Majority consumption is in the **range of 0 ~ 200 kWh**\n",
    "* Lights: **77%** of observations hace **ZERO** Lights Energy Consumption"
   ]
  },
  {
   "cell_type": "markdown",
   "metadata": {},
   "source": [
    "### Log Transform\n",
    "> Taking a log transform will make a variable more normal. "
   ]
  },
  {
   "cell_type": "code",
   "execution_count": null,
   "metadata": {
    "scrolled": true
   },
   "outputs": [],
   "source": [
    "df[['Appliances', 'lights']].apply(np.log).apply(scipy.stats.skew)"
   ]
  },
  {
   "cell_type": "markdown",
   "metadata": {},
   "source": [
    "It does reduce skewness but does not make it disappear. Also, for 'lights' most of the data is 0 and log is undefined."
   ]
  },
  {
   "cell_type": "code",
   "execution_count": null,
   "metadata": {},
   "outputs": [],
   "source": [
    "df[['Appliances', 'lights']].apply(np.log).apply(scipy.stats.kurtosis)"
   ]
  },
  {
   "cell_type": "markdown",
   "metadata": {},
   "source": [
    "Again, it reduces but does not get rid of kurtosis."
   ]
  },
  {
   "cell_type": "code",
   "execution_count": null,
   "metadata": {},
   "outputs": [],
   "source": [
    "fig, ax1 = plt.subplots(figsize=(18,5))\n",
    "sns.distplot(df.Appliances.apply(np.log), kde=True, color=\"red\", ax=ax1)\n",
    "ax1.set_ylabel(\"Frequency\");\n",
    "ax1.set_xlabel(\"Log of Appliances Energy Consumption\");"
   ]
  },
  {
   "cell_type": "markdown",
   "metadata": {},
   "source": [
    "### 2) Outside Temperatures & Humidities contributing to aggregate Energy Consumption"
   ]
  },
  {
   "cell_type": "code",
   "execution_count": null,
   "metadata": {},
   "outputs": [],
   "source": [
    "df[['T6', 'T_out', 'RH_6', 'RH_out']].describe().astype(int)"
   ]
  },
  {
   "cell_type": "code",
   "execution_count": null,
   "metadata": {
    "scrolled": true
   },
   "outputs": [],
   "source": [
    "df[['T6', 'T_out', 'RH_6', 'RH_out']].apply(scipy.stats.skew)"
   ]
  },
  {
   "cell_type": "markdown",
   "metadata": {},
   "source": [
    "Skewness for normal distribution should be zero. Negative skewness indicates skew left and positive skewness indicates skew right."
   ]
  },
  {
   "cell_type": "code",
   "execution_count": null,
   "metadata": {},
   "outputs": [],
   "source": [
    "df[['T6', 'T_out', 'RH_6', 'RH_out']].apply(scipy.stats.kurtosis)"
   ]
  },
  {
   "cell_type": "markdown",
   "metadata": {},
   "source": [
    "Kurtosis is also zero for a normal distribution and can only be postiive. The distribution for RH_6 is not Normal."
   ]
  },
  {
   "cell_type": "code",
   "execution_count": null,
   "metadata": {
    "scrolled": false
   },
   "outputs": [],
   "source": [
    "fig, ((ax1, ax3), (ax2, ax4)) = plt.subplots(figsize=(14,10), nrows=2, ncols=2)\n",
    "sns.distplot(df.T6, color=\"red\", ax=ax1, axlabel=\"T6, Temperature outside the building (north side)\")\n",
    "sns.distplot(df.T_out, color=\"red\", ax=ax2, axlabel=\"T_out, Temperature outside (from Chièvres weather station)\")\n",
    "sns.distplot(df.RH_6, ax=ax3, axlabel=\"RH_6, Humidity outside the building (north side)\")\n",
    "sns.distplot(df.RH_out, ax=ax4, axlabel=\"RH_out, Humidity outside (from Chièvres weather station)\");"
   ]
  },
  {
   "cell_type": "markdown",
   "metadata": {},
   "source": [
    "It can be roughly be concluded:\n",
    "* While the temperatures are related, **humidities vary significantly** between _Building Outside_ and _Chièvres Weather Station_\n",
    "* Temparature peaks at 5°C and are normaly distributed"
   ]
  },
  {
   "cell_type": "markdown",
   "metadata": {},
   "source": [
    "### Log Transform\n",
    "> Taking a log transform will make a variable more normal. "
   ]
  },
  {
   "cell_type": "code",
   "execution_count": null,
   "metadata": {
    "scrolled": true
   },
   "outputs": [],
   "source": [
    "df[['T6', 'T_out', 'RH_6', 'RH_out']].apply(np.log).apply(scipy.stats.skew)"
   ]
  },
  {
   "cell_type": "code",
   "execution_count": null,
   "metadata": {},
   "outputs": [],
   "source": [
    "df[['T6', 'T_out', 'RH_6', 'RH_out']].apply(np.log).apply(scipy.stats.kurtosis)"
   ]
  },
  {
   "cell_type": "code",
   "execution_count": null,
   "metadata": {},
   "outputs": [],
   "source": [
    "fig, ((ax3, ax4)) = plt.subplots(figsize=(18,5), ncols=2)\n",
    "sns.distplot(df.RH_6.apply(np.log), ax=ax3, axlabel=\"Log of RH_6, Humidity outside the building (north side)\")\n",
    "sns.distplot(df.RH_out.apply(np.log), ax=ax4, axlabel=\"Log of RH_out, Humidity outside (from Chièvres weather station)\");"
   ]
  },
  {
   "cell_type": "markdown",
   "metadata": {},
   "source": [
    "## Examining Pair-Wise Relationship"
   ]
  },
  {
   "cell_type": "code",
   "execution_count": null,
   "metadata": {
    "scrolled": true
   },
   "outputs": [],
   "source": [
    "#Correlation Heat Map\n",
    "plt.figure(figsize=(50,50));\n",
    "a = sns.heatmap(df.corr(), annot=True, fmt=\".2f\", annot_kws={\"size\": 20});\n",
    "rotx = a.set_xticklabels(a.get_xticklabels(), rotation=60)\n",
    "plt.show();"
   ]
  },
  {
   "cell_type": "markdown",
   "metadata": {},
   "source": [
    "From the above correlation map, it can be deduced that only following attributes are closely related (as compared to others) to Appliance's Energy Consumption:\n",
    "\n",
    ">| Variables, Description | Correlation |\n",
    "| :------ | :----------- |\n",
    "| Lights, Light energy consumption | 0.20 |\n",
    "| T2, Temperature in living room area | 0.12 |\n",
    "| T6, Temperature outside the building (north side) | 0.12 |\n",
    "| T_out, Temperature outside (from Chièvres weather station) | 0.10 |\n",
    "| RH_out, Humidity outside (from Chièvres weather station) | -0.15 |\n",
    "| NSM, Number of seconds from midnight | 0.22 |\n",
    "\n",
    "Below are the scatter plots of these attributes with respect to Appliances Energy Cosumption:"
   ]
  },
  {
   "cell_type": "code",
   "execution_count": null,
   "metadata": {
    "scrolled": false
   },
   "outputs": [],
   "source": [
    "fig, ((ax1, ax2, ax3), (ax4, ax5, ax6)) = plt.subplots(figsize=(14,10), nrows=2, ncols=3)\n",
    "sns.regplot(x='Appliances', y='lights', data=df, fit_reg=False, scatter_kws={'alpha': 0.5}, ax = ax1)\n",
    "sns.regplot(x='Appliances', y='T2', data=df, fit_reg=False, scatter_kws={'alpha': 0.5}, ax = ax2)\n",
    "sns.regplot(x='Appliances', y='T6', data=df, fit_reg=False, scatter_kws={'alpha': 0.5}, ax = ax3)\n",
    "sns.regplot(x='Appliances', y='T_out', data=df, fit_reg=False, scatter_kws={'alpha': 0.5}, ax = ax4)\n",
    "sns.regplot(x='Appliances', y='RH_out', data=df, fit_reg=False, scatter_kws={'alpha': 0.5}, ax = ax5)\n",
    "sns.regplot(x='Appliances', y='NSM', data=df, fit_reg=False, scatter_kws={'alpha': 0.5}, ax = ax6);"
   ]
  },
  {
   "cell_type": "code",
   "execution_count": null,
   "metadata": {
    "scrolled": false
   },
   "outputs": [],
   "source": [
    "sns.set(style=\"ticks\", color_codes=True);\n",
    "sns.pairplot(df[['Appliances', 'lights', 'T2', 'T6', 'T_out', 'RH_out', 'NSM']]);"
   ]
  },
  {
   "cell_type": "markdown",
   "metadata": {},
   "source": [
    "There are few very obvious outliers in these relationships. A quick check through the correlations:\n",
    " - Are there zeros?\n",
    "     - Yes, zero is a possible observation for all the attributes except 'lights' which 77% of its data as zeros\n",
    " - Are there strange correlations?\n",
    "     - Yes, the correlation is too scattered to figure out any pattern\n",
    "     - NSM shows that appliances are usually used from morning 5:30am (20,000 sec past midnight) everyday\n",
    "     - RH_out shows a rough interpretation that consumption increases with respect to the increase in humidity\n",
    " - Are there separate clusters (possible data recording error or anomaly)?\n",
    "     - No, but there are many outliers"
   ]
  },
  {
   "cell_type": "markdown",
   "metadata": {},
   "source": [
    "There are many non-linear relationships. One way to address this is to bin variables into categories and look at the distribution of other variables for each category. "
   ]
  },
  {
   "cell_type": "markdown",
   "metadata": {},
   "source": [
    "Let's look at the consumption of `Appliances` binned into quintiles."
   ]
  },
  {
   "cell_type": "code",
   "execution_count": null,
   "metadata": {},
   "outputs": [],
   "source": [
    "consumption_bins = ['Very Low', 'Low', 'Medium', 'High', 'Very high']\n",
    "df['Appliances_bin'] = pd.qcut(df.Appliances, 5, consumption_bins)\n",
    "bin_ranges = pd.qcut(df.Appliances, 5).unique()\n",
    "bin_ranges"
   ]
  },
  {
   "cell_type": "markdown",
   "metadata": {},
   "source": [
    "Now we have a CATEGORICAL X CONTINUOUS analysis. Let's look at the distribution of a few variables for each `Appliances` group. "
   ]
  },
  {
   "cell_type": "code",
   "execution_count": null,
   "metadata": {
    "scrolled": false
   },
   "outputs": [],
   "source": [
    "fig, ((ax1, ax2, ax3), (ax4, ax5, ax6)) = plt.subplots(figsize=(18,14), nrows=2, ncols=3)\n",
    "sns.boxplot(x='Appliances_bin', y='lights', hue='Appliances_bin', data=df, ax = ax1)\n",
    "sns.boxplot(x='Appliances_bin', y='T2', hue='Appliances_bin', data=df, ax = ax2)\n",
    "sns.boxplot(x='Appliances_bin', y='T6', hue='Appliances_bin', data=df, ax = ax3)\n",
    "sns.boxplot(x='Appliances_bin', y='T_out', hue='Appliances_bin', data=df, ax = ax4)\n",
    "sns.boxplot(x='Appliances_bin', y='RH_out', hue='Appliances_bin', data=df, ax = ax5)\n",
    "sns.boxplot(x='Appliances_bin', y='NSM', hue='Appliances_bin', data=df, ax = ax6)\n",
    "ax1.legend().set_visible(False)\n",
    "ax2.legend().set_visible(False)\n",
    "ax3.legend().set_visible(False)\n",
    "ax4.legend().set_visible(False)\n",
    "ax5.legend().set_visible(False)\n",
    "ax6.legend().set_visible(False);"
   ]
  },
  {
   "cell_type": "code",
   "execution_count": null,
   "metadata": {
    "collapsed": true
   },
   "outputs": [],
   "source": [
    "df = df.drop(['Appliances_bin'],axis=1)"
   ]
  },
  {
   "cell_type": "markdown",
   "metadata": {},
   "source": [
    "### Detecting Outliers for Each variable"
   ]
  },
  {
   "cell_type": "markdown",
   "metadata": {},
   "source": [
    "Proceed with the following steps to detect outliers in the dataset:\n",
    ">1. Arrange all the dataset points and calculate median\n",
    ">2. Calculate the upper quartile\n",
    ">3. Calculate the lower quartile\n",
    ">4. Calculate the interquartile range\n",
    ">> Product of numeric value of 1.5 and difference of the upper quartile(75%) and lower quartile(25%)\n",
    ">> * 1.5 X (Upper Quartile - Lower Quartile)\n",
    ">5. Calculate the inner fences for the dataset\n",
    ">> Set of numerical boundaries which is classified as major and minor outlier:\n",
    ">> * Major Outlier = Upper Quartile + Interquartile Range\n",
    ">> * Minor Outlier = Lower Quartlie - Interquartile Range\n",
    "\n",
    "Following are the outliers for each variable\n",
    "<table>\n",
    "    <thead class=\"valign-top\">\n",
    "        <tr>\n",
    "            <th scope=\"col\" class=\"rowsep-1 align-left\">Variables</th>\n",
    "            <th scope=\"col\" class=\"rowsep-1 align-left\">Upper Quartile</th>\n",
    "            <th scope=\"col\" class=\"rowsep-1 align-left\">Lower Quartile</th>\n",
    "            <th scope=\"col\" class=\"rowsep-1 align-left\">Interquartile Range</th>\n",
    "            <th scope=\"col\" class=\"rowsep-1 align-left\">Major Outlier</th>\n",
    "            <th scope=\"col\" class=\"rowsep-1 align-left\">Minor Outlier</th>\n",
    "        </tr>\n",
    "    </thead>\n",
    "    <tbody>\n",
    "        <tr>\n",
    "        <th class=\"align-left\" scope=\"row\">T1</th>\n",
    "            <td class=\"align-left\">22.6</td>\n",
    "            <td class=\"align-left\">20.73</td>\n",
    "            <td class=\"align-left\">2.805</td>\n",
    "            <td class=\"align-left\">24.80</td>\n",
    "            <td class=\"align-left\">18.40</td>\n",
    "        </tr>\n",
    "        <tr>\n",
    "            <th class=\"align-left\" scope=\"row\">RH_1</th>\n",
    "            <td class=\"align-left\">43.09</td>\n",
    "            <td class=\"align-left\">37.36</td>\n",
    "            <td class=\"align-left\">8.595</td>\n",
    "            <td class=\"align-left\">51.25</td>\n",
    "            <td class=\"align-left\">28.50</td>\n",
    "        </tr>\n",
    "        <tr>\n",
    "            <th class=\"align-left\" scope=\"row\">T2</th>\n",
    "            <td class=\"align-left\">21.50</td>\n",
    "            <td class=\"align-left\">18.82</td>\n",
    "            <td class=\"align-left\">4.02</td>\n",
    "            <td class=\"align-left\">24.30</td>\n",
    "            <td class=\"align-left\">14.80</td>\n",
    "        </tr>\n",
    "        <tr>\n",
    "            <th class=\"align-left\" scope=\"row\">RH_2</th>\n",
    "            <td class=\"align-left\">43.29</td>\n",
    "            <td class=\"align-left\">37.90</td>\n",
    "            <td class=\"align-left\">8.08</td>\n",
    "            <td class=\"align-left\">50.50</td>\n",
    "            <td class=\"align-left\">32</td>\n",
    "        </tr>\n",
    "        <tr>\n",
    "            <th class=\"align-left\" scope=\"row\">T3</th>\n",
    "            <td class=\"align-left\">23.29</td>\n",
    "            <td class=\"align-left\">20.79</td>\n",
    "            <td class=\"align-left\">3.75</td>\n",
    "            <td class=\"align-left\">26.20</td>\n",
    "            <td class=\"align-left\">17.04</td>\n",
    "        </tr>\n",
    "        <tr>\n",
    "            <th class=\"align-left\" scope=\"row\">RH_3</th>\n",
    "            <td class=\"align-left\">41.76</td>\n",
    "            <td class=\"align-left\">36.90</td>\n",
    "            <td class=\"align-left\">7.29</td>\n",
    "            <td class=\"align-left\">46.50</td>\n",
    "            <td class=\"align-left\">30</td>\n",
    "        </tr>\n",
    "        <tr>\n",
    "            <th class=\"align-left\" scope=\"row\">T4</th>\n",
    "            <td class=\"align-left\">22.10</td>\n",
    "            <td class=\"align-left\">19.50</td>\n",
    "            <td class=\"align-left\">3.90</td>\n",
    "            <td class=\"align-left\">24.50</td>\n",
    "            <td class=\"align-left\">16.50</td>\n",
    "        </tr>\n",
    "        <tr>\n",
    "            <th class=\"align-left\" scope=\"row\">RH_4</th>\n",
    "            <td class=\"align-left\">42.13</td>\n",
    "            <td class=\"align-left\">35.53</td>\n",
    "            <td class=\"align-left\">9.90</td>\n",
    "            <td class=\"align-left\">49</td>\n",
    "            <td class=\"align-left\">25.60</td>\n",
    "        </tr>\n",
    "        <tr>\n",
    "            <th class=\"align-left\" scope=\"row\">T5</th>\n",
    "            <td class=\"align-left\">20.60</td>\n",
    "            <td class=\"align-left\">18.26</td>\n",
    "            <td class=\"align-left\">3.51</td>\n",
    "            <td class=\"align-left\">22.80</td>\n",
    "            <td class=\"align-left\">14.75</td>\n",
    "        </tr>\n",
    "        <tr>\n",
    "            <th class=\"align-left\" scope=\"row\">RH_5</th>\n",
    "            <td class=\"align-left\">53.66</td>\n",
    "            <td class=\"align-left\">45.40</td>\n",
    "            <td class=\"align-left\">12.39</td>\n",
    "            <td class=\"align-left\">62.80</td>\n",
    "            <td class=\"align-left\">34</td>\n",
    "        </tr>\n",
    "        <tr>\n",
    "            <th class=\"align-left\" scope=\"row\">T6</th>\n",
    "            <td class=\"align-left\">11.24</td>\n",
    "            <td class=\"align-left\">3.65</td>\n",
    "            <td class=\"align-left\">11.38</td>\n",
    "            <td class=\"align-left\">18</td>\n",
    "            <td class=\"align-left\">-7.73</td>\n",
    "        </tr>\n",
    "        <tr>\n",
    "            <th class=\"align-left\" scope=\"row\">RH_6</th>\n",
    "            <td class=\"align-left\">83.32</td>\n",
    "            <td class=\"align-left\">30.09</td>\n",
    "            <td class=\"align-left\">79.84</td>\n",
    "            <td class=\"align-left\">163.16</td>\n",
    "            <td class=\"align-left\">-49.75</td>\n",
    "        </tr>\n",
    "        <tr>\n",
    "            <th class=\"align-left\" scope=\"row\">T7</th>\n",
    "            <td class=\"align-left\">21.60</td>\n",
    "            <td class=\"align-left\">18.70</td>\n",
    "            <td class=\"align-left\">4.35</td>\n",
    "            <td class=\"align-left\">25.90</td>\n",
    "            <td class=\"align-left\">14.35</td>\n",
    "        </tr>\n",
    "        <tr>\n",
    "            <th class=\"align-left\" scope=\"row\">RH_7</th>\n",
    "            <td class=\"align-left\">39</td>\n",
    "            <td class=\"align-left\">31.50</td>\n",
    "            <td class=\"align-left\">11.25</td>\n",
    "            <td class=\"align-left\">47</td>\n",
    "            <td class=\"align-left\">20.25</td>\n",
    "        </tr>\n",
    "        <tr>\n",
    "            <th class=\"align-left\" scope=\"row\">T8</th>\n",
    "            <td class=\"align-left\">23.39</td>\n",
    "            <td class=\"align-left\">20.79</td>\n",
    "            <td class=\"align-left\">3.90</td>\n",
    "            <td class=\"align-left\">27.29</td>\n",
    "            <td class=\"align-left\">17.20</td>\n",
    "        </tr>\n",
    "        <tr>\n",
    "            <th class=\"align-left\" scope=\"row\">RH_8</th>\n",
    "            <td class=\"align-left\">46.56</td>\n",
    "            <td class=\"align-left\">39.06</td>\n",
    "            <td class=\"align-left\">11.25</td>\n",
    "            <td class=\"align-left\">54.70</td>\n",
    "            <td class=\"align-left\">27.81</td>\n",
    "        </tr>\n",
    "        <tr>\n",
    "            <th class=\"align-left\" scope=\"row\">T9</th>\n",
    "            <td class=\"align-left\">20.60</td>\n",
    "            <td class=\"align-left\">18</td>\n",
    "            <td class=\"align-left\">3.90</td>\n",
    "            <td class=\"align-left\">23.60</td>\n",
    "            <td class=\"align-left\">14.10</td>\n",
    "        </tr>\n",
    "        <tr>\n",
    "            <th class=\"align-left\" scope=\"row\">RH_9</th>\n",
    "            <td class=\"align-left\">44.36</td>\n",
    "            <td class=\"align-left\">38.50</td>\n",
    "            <td class=\"align-left\">8.79</td>\n",
    "            <td class=\"align-left\">50.50</td>\n",
    "            <td class=\"align-left\">32</td>\n",
    "        </tr>\n",
    "        <tr>\n",
    "            <th class=\"align-left\" scope=\"row\">T_out</th>\n",
    "            <td class=\"align-left\">10.40</td>\n",
    "            <td class=\"align-left\">3.66</td>\n",
    "            <td class=\"align-left\">10.11</td>\n",
    "            <td class=\"align-left\">17.50</td>\n",
    "            <td class=\"align-left\">-6.45</td>\n",
    "        </tr>\n",
    "        <tr>\n",
    "            <th class=\"align-left\" scope=\"row\">RH_out</th>\n",
    "            <td class=\"align-left\">91.66</td>\n",
    "            <td class=\"align-left\">70</td>\n",
    "            <td class=\"align-left\">32.49</td>\n",
    "            <td class=\"align-left\">124.15</td>\n",
    "            <td class=\"align-left\">46</td>\n",
    "        </tr>\n",
    "        <tr>\n",
    "            <th class=\"align-left\" scope=\"row\">Press_mm_hg</th>\n",
    "            <td class=\"align-left\">76.093</td>\n",
    "            <td class=\"align-left\">750.86</td>\n",
    "            <td class=\"align-left\">15.105</td>\n",
    "            <td class=\"align-left\">776.035</td>\n",
    "            <td class=\"align-left\">736</td>\n",
    "        </tr>\n",
    "        <tr>\n",
    "            <th class=\"align-left\" scope=\"row\">Tdewpoint</th>\n",
    "            <td class=\"align-left\">6.53</td>\n",
    "            <td class=\"align-left\">0.9</td>\n",
    "            <td class=\"align-left\">8.445</td>\n",
    "            <td class=\"align-left\">12.50</td>\n",
    "            <td class=\"align-left\">-7.54</td>\n",
    "         </tr>\n",
    "            \n",
    "        \n",
    "\n",
    "\n"
   ]
  },
  {
   "cell_type": "code",
   "execution_count": null,
   "metadata": {
    "collapsed": true
   },
   "outputs": [],
   "source": [
    "df_describe = df.describe().T"
   ]
  },
  {
   "cell_type": "code",
   "execution_count": null,
   "metadata": {
    "collapsed": true
   },
   "outputs": [],
   "source": [
    "df_describe['Interquartile Range'] = 1.5*(df_describe['75%'] - df_describe['25%'])"
   ]
  },
  {
   "cell_type": "code",
   "execution_count": null,
   "metadata": {
    "collapsed": true
   },
   "outputs": [],
   "source": [
    "df_describe['Major Outlier'] = (df_describe['75%'] + df_describe['Interquartile Range'])\n",
    "df_describe['Minor Outlier'] = (df_describe['25%'] - df_describe['Interquartile Range'])"
   ]
  },
  {
   "cell_type": "code",
   "execution_count": null,
   "metadata": {},
   "outputs": [],
   "source": [
    "df_describe"
   ]
  },
  {
   "cell_type": "markdown",
   "metadata": {},
   "source": [
    "### Removing Outliers from Specific Variables\n",
    "> Excluding:\n",
    "> * RH_6, Humidity outside the building (north side)\n",
    "> * RH_out, Humidity outside (from Chièvres weather station)\n",
    "> * Windspeed, Windspeed (from Chièvres weather station)\n",
    "> * Visibility, Visibility (from Chièvres weather station)\n",
    "> * rv1, Random Variable 1\n",
    "> * rv2, Random Variable 2\n",
    "\n",
    "Following drops will only remove max. 15% of the data, which is acceptable"
   ]
  },
  {
   "cell_type": "code",
   "execution_count": null,
   "metadata": {
    "collapsed": true
   },
   "outputs": [],
   "source": [
    "def remove_outlier(df, variable):\n",
    "    major_o = df_describe.loc[variable,'Major Outlier']\n",
    "    minor_o = df_describe.loc[variable,'Minor Outlier']\n",
    "    df = df.drop(df[(df[variable]>major_o) | (df[variable]<minor_o)].index)\n",
    "    return df"
   ]
  },
  {
   "cell_type": "code",
   "execution_count": null,
   "metadata": {
    "collapsed": true
   },
   "outputs": [],
   "source": [
    "outlier_column_list = [x for x in all_columns \n",
    "                       if x not in ('date', 'Appliances', 'lights', 'RH_6', 'RH_out', 'Windspeed', 'Visibility', 'rv1', 'rv2')]"
   ]
  },
  {
   "cell_type": "code",
   "execution_count": null,
   "metadata": {
    "collapsed": true,
    "scrolled": false
   },
   "outputs": [],
   "source": [
    "for column_name in outlier_column_list:\n",
    "    df = remove_outlier(df, column_name)"
   ]
  },
  {
   "cell_type": "code",
   "execution_count": null,
   "metadata": {},
   "outputs": [],
   "source": [
    "# Percentage of Data Dropped\n",
    "((df_loaded.shape[0] - df.shape[0])/df_loaded.shape[0])*100"
   ]
  },
  {
   "cell_type": "code",
   "execution_count": null,
   "metadata": {
    "scrolled": true
   },
   "outputs": [],
   "source": [
    "# Pivot table created for reference\n",
    "pivottablejs.pivot_ui(df)"
   ]
  },
  {
   "cell_type": "code",
   "execution_count": null,
   "metadata": {
    "collapsed": true
   },
   "outputs": [],
   "source": [
    "# Exporting the cleaned dataset\n",
    "df.to_csv('energydata_complete_cleaned.csv', index=False)"
   ]
  }
 ],
 "metadata": {
  "kernelspec": {
   "display_name": "Python 3",
   "language": "python",
   "name": "python3"
  },
  "language_info": {
   "codemirror_mode": {
    "name": "ipython",
    "version": 3
   },
   "file_extension": ".py",
   "mimetype": "text/x-python",
   "name": "python",
   "nbconvert_exporter": "python",
   "pygments_lexer": "ipython3",
   "version": "3.6.3"
  }
 },
 "nbformat": 4,
 "nbformat_minor": 2
}
